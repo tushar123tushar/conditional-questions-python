{
 "cells": [
  {
   "cell_type": "markdown",
   "metadata": {},
   "source": [
    " 1 Age Group Categorization"
   ]
  },
  {
   "cell_type": "code",
   "execution_count": 3,
   "metadata": {},
   "outputs": [
    {
     "data": {
      "text/plain": [
       "'senior'"
      ]
     },
     "execution_count": 3,
     "metadata": {},
     "output_type": "execute_result"
    }
   ],
   "source": [
    "\n",
    "def age(user = input(\"Input Age's \")):\n",
    "    \n",
    "    sec_user = int(user)\n",
    "    \n",
    "    if sec_user < 13:\n",
    "        return f'Child : {sec_user}'\n",
    "\n",
    "    elif sec_user < 20:\n",
    "        return f\"Teenager : {sec_user}\"\n",
    "\n",
    "    elif sec_user < 60:\n",
    "        return f\"Adult : {sec_user}\"\n",
    "    \n",
    "\n",
    "    else:\n",
    "        return \"senior\"\n",
    "    \n",
    "age()"
   ]
  },
  {
   "cell_type": "code",
   "execution_count": null,
   "metadata": {},
   "outputs": [],
   "source": [
    "\n"
   ]
  }
 ],
 "metadata": {
  "kernelspec": {
   "display_name": "Python 3",
   "language": "python",
   "name": "python3"
  },
  "language_info": {
   "codemirror_mode": {
    "name": "ipython",
    "version": 3
   },
   "file_extension": ".py",
   "mimetype": "text/x-python",
   "name": "python",
   "nbconvert_exporter": "python",
   "pygments_lexer": "ipython3",
   "version": "3.13.2"
  }
 },
 "nbformat": 4,
 "nbformat_minor": 2
}
