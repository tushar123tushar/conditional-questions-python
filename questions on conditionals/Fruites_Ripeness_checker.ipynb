{
 "cells": [
  {
   "cell_type": "markdown",
   "metadata": {},
   "source": [
    "Fruite Ripeness Checker"
   ]
  },
  {
   "cell_type": "code",
   "execution_count": 3,
   "metadata": {},
   "outputs": [
    {
     "name": "stdout",
     "output_type": "stream",
     "text": [
      "unripe\n"
     ]
    }
   ],
   "source": [
    "items = lambda text , color : \"unripe\" if text == \"Banana\" and color == \"Green\"  else \"ripe\" if text == \"Banana\" and color == \"Yellow\"  else \"overripe\" if text == \"Banana\" and color == \"Brown\" else \"Invaild Food\"\n",
    "\n",
    "text = input(\"Enter Frute Name\")\n",
    "color = input(\"Input Color Name\")\n",
    "\n",
    "print(items(text , color))"
   ]
  }
 ],
 "metadata": {
  "kernelspec": {
   "display_name": "Python 3",
   "language": "python",
   "name": "python3"
  },
  "language_info": {
   "codemirror_mode": {
    "name": "ipython",
    "version": 3
   },
   "file_extension": ".py",
   "mimetype": "text/x-python",
   "name": "python",
   "nbconvert_exporter": "python",
   "pygments_lexer": "ipython3",
   "version": "3.13.2"
  }
 },
 "nbformat": 4,
 "nbformat_minor": 2
}
