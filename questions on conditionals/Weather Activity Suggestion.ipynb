{
 "cells": [
  {
   "cell_type": "markdown",
   "metadata": {},
   "source": [
    "Weather Activity Suggestion"
   ]
  },
  {
   "cell_type": "code",
   "execution_count": 4,
   "metadata": {},
   "outputs": [
    {
     "name": "stdout",
     "output_type": "stream",
     "text": [
      "You Can Go Vist\n"
     ]
    }
   ],
   "source": [
    "text = lambda TEXT : \"You Can Go Vist\" if TEXT == \"Sunney\" else \"you Can't GO Because You Mausam iS Rainy\" if TEXT == \"Rainy\" else \"Booking Ready\" if TEXT == \"Snow\" else \"Invaild\"\n",
    "user = input(\"Enter Your Days \")\n",
    "new_user = str(user)\n",
    "print(text(new_user))"
   ]
  }
 ],
 "metadata": {
  "kernelspec": {
   "display_name": "Python 3",
   "language": "python",
   "name": "python3"
  },
  "language_info": {
   "codemirror_mode": {
    "name": "ipython",
    "version": 3
   },
   "file_extension": ".py",
   "mimetype": "text/x-python",
   "name": "python",
   "nbconvert_exporter": "python",
   "pygments_lexer": "ipython3",
   "version": "3.13.2"
  }
 },
 "nbformat": 4,
 "nbformat_minor": 2
}
