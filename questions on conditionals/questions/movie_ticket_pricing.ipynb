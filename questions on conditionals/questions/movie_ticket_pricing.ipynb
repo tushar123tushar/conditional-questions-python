{
 "cells": [
  {
   "cell_type": "markdown",
   "metadata": {},
   "source": [
    "Movie_ticket"
   ]
  },
  {
   "cell_type": "code",
   "execution_count": null,
   "metadata": {},
   "outputs": [],
   "source": [
    "def calculate_ticket_price(age):\n",
    "    # Pricing rules\n",
    "    if age < 12:\n",
    "        return 5  # Price for children\n",
    "    elif 12 <= age <= 59:\n",
    "        return 10  # Price for adults\n",
    "    else:\n",
    "        return 7  # Price for seniors\n",
    "\n",
    "def main():\n",
    "    print(\"Welcome to the Movie Ticket Pricing System!\")\n",
    "\n",
    "    # Ask for user input\n",
    "    age = int(input(\"Enter your age: \"))\n",
    "    \n",
    "    # Calculate ticket price based on age\n",
    "    price = calculate_ticket_price(age)\n",
    "    \n",
    "    print(f\"Your ticket price is: ${price}\")\n",
    "\n",
    "if __name__ == \"__main__\":\n",
    "    main()\n"
   ]
  }
 ],
 "metadata": {
  "kernelspec": {
   "display_name": "Python 3",
   "language": "python",
   "name": "python3"
  },
  "language_info": {
   "codemirror_mode": {
    "name": "ipython",
    "version": 3
   },
   "file_extension": ".py",
   "mimetype": "text/x-python",
   "name": "python",
   "nbconvert_exporter": "python",
   "pygments_lexer": "ipython3",
   "version": "3.13.2"
  }
 },
 "nbformat": 4,
 "nbformat_minor": 2
}
