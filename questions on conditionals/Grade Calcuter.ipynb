{
 "cells": [
  {
   "cell_type": "markdown",
   "metadata": {},
   "source": [
    "Grade Calcuter "
   ]
  },
  {
   "cell_type": "code",
   "execution_count": null,
   "metadata": {},
   "outputs": [
    {
     "name": "stdout",
     "output_type": "stream",
     "text": [
      "D Grade And Marks : 35 \n"
     ]
    }
   ],
   "source": [
    "def Marks(user , marks):\n",
    "    new_marks = int(marks)\n",
    "\n",
    "\n",
    "    if new_marks >= 90 and new_marks <= 100:\n",
    "        print(f\" A Grade And Marks is : {new_marks}\")\n",
    "\n",
    "    elif new_marks >= 60 and new_marks < 80:\n",
    "        print(f\"B Grade And Marks is : {new_marks} \")\n",
    "\n",
    "    elif new_marks >= 50 and new_marks < 60:\n",
    "        print(f\"C Grade and Marks : {new_marks}\")\n",
    "\n",
    "    elif new_marks >=33 and new_marks < 50:\n",
    "        print(f\"D Grade And Marks : {new_marks} \")\n",
    "    else :\n",
    "        print(\"Faild\")\n",
    "Marks(input(\"Enter Your Name\") ,input(\"Input Your Marks\") )"
   ]
  },
  {
   "cell_type": "code",
   "execution_count": null,
   "metadata": {},
   "outputs": [],
   "source": []
  }
 ],
 "metadata": {
  "kernelspec": {
   "display_name": "Python 3",
   "language": "python",
   "name": "python3"
  },
  "language_info": {
   "codemirror_mode": {
    "name": "ipython",
    "version": 3
   },
   "file_extension": ".py",
   "mimetype": "text/x-python",
   "name": "python",
   "nbconvert_exporter": "python",
   "pygments_lexer": "ipython3",
   "version": "3.13.2"
  }
 },
 "nbformat": 4,
 "nbformat_minor": 2
}
